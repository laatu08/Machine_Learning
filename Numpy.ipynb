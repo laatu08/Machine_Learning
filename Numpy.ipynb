{
  "nbformat": 4,
  "nbformat_minor": 0,
  "metadata": {
    "colab": {
      "provenance": [],
      "authorship_tag": "ABX9TyNo1Xc1u47iWCHEBVkNqUqY",
      "include_colab_link": true
    },
    "kernelspec": {
      "name": "python3",
      "display_name": "Python 3"
    },
    "language_info": {
      "name": "python"
    }
  },
  "cells": [
    {
      "cell_type": "markdown",
      "metadata": {
        "id": "view-in-github",
        "colab_type": "text"
      },
      "source": [
        "<a href=\"https://colab.research.google.com/github/laatu08/Machine_Learning/blob/main/Numpy.ipynb\" target=\"_parent\"><img src=\"https://colab.research.google.com/assets/colab-badge.svg\" alt=\"Open In Colab\"/></a>"
      ]
    },
    {
      "cell_type": "code",
      "execution_count": 85,
      "metadata": {
        "id": "q86uWQeNGvdN"
      },
      "outputs": [],
      "source": [
        "# Numpy is faster than traditional list\n",
        "import numpy as np\n",
        "\n",
        "# to create numpy, we use array method\n",
        "a = np.array([1,2,3,4,5])\n",
        "b = np.array((6,7,8,9,0),dtype='f')"
      ]
    },
    {
      "cell_type": "code",
      "source": [
        "print(a)\n",
        "print(b)"
      ],
      "metadata": {
        "colab": {
          "base_uri": "https://localhost:8080/"
        },
        "id": "Ybu81vpsH0gA",
        "outputId": "1de26bfb-e838-4c96-fcb3-0b7ac7b92dc1"
      },
      "execution_count": null,
      "outputs": [
        {
          "output_type": "stream",
          "name": "stdout",
          "text": [
            "[1 2 3 4 5]\n",
            "[6. 7. 8. 9. 0.]\n"
          ]
        }
      ]
    },
    {
      "cell_type": "code",
      "source": [
        "# type of a and b will no longer be list or tuple\n",
        "type(a)"
      ],
      "metadata": {
        "colab": {
          "base_uri": "https://localhost:8080/"
        },
        "id": "VM_gDC9PH64S",
        "outputId": "4918cb27-c6b7-49b8-a6c7-4e4936b26ff6"
      },
      "execution_count": null,
      "outputs": [
        {
          "output_type": "execute_result",
          "data": {
            "text/plain": [
              "numpy.ndarray"
            ]
          },
          "metadata": {},
          "execution_count": 4
        }
      ]
    },
    {
      "cell_type": "code",
      "source": [
        "# to find data type of data in numpy, we use dtype\n",
        "a.dtype\n",
        "b.dtype"
      ],
      "metadata": {
        "colab": {
          "base_uri": "https://localhost:8080/"
        },
        "id": "jSjFzpZLIFvd",
        "outputId": "cffa5164-778e-4087-ee3c-7e04699cb16c"
      },
      "execution_count": null,
      "outputs": [
        {
          "output_type": "execute_result",
          "data": {
            "text/plain": [
              "dtype('float32')"
            ]
          },
          "metadata": {},
          "execution_count": 5
        }
      ]
    },
    {
      "cell_type": "code",
      "source": [
        "b.dtype"
      ],
      "metadata": {
        "colab": {
          "base_uri": "https://localhost:8080/"
        },
        "id": "fN_gVEf6Imt2",
        "outputId": "12e5401f-57a1-44fe-f5a9-4668fd9bc543"
      },
      "execution_count": null,
      "outputs": [
        {
          "output_type": "execute_result",
          "data": {
            "text/plain": [
              "dtype('float32')"
            ]
          },
          "metadata": {},
          "execution_count": 6
        }
      ]
    },
    {
      "cell_type": "code",
      "source": [
        "# Dimensions in numpy"
      ],
      "metadata": {
        "id": "quXeddX5I3C_"
      },
      "execution_count": null,
      "outputs": []
    },
    {
      "cell_type": "code",
      "source": [
        "a = np.array([[1,2,3],[4,5,6]])"
      ],
      "metadata": {
        "id": "YDtRmLWhJ2AJ"
      },
      "execution_count": null,
      "outputs": []
    },
    {
      "cell_type": "code",
      "source": [
        "# ndim give the number of dimension\n",
        "a.ndim"
      ],
      "metadata": {
        "colab": {
          "base_uri": "https://localhost:8080/"
        },
        "id": "2_EiZGSrKBAw",
        "outputId": "8ecde641-5b20-4565-f12f-e6d53cdfb37c"
      },
      "execution_count": null,
      "outputs": [
        {
          "output_type": "execute_result",
          "data": {
            "text/plain": [
              "2"
            ]
          },
          "metadata": {},
          "execution_count": 10
        }
      ]
    },
    {
      "cell_type": "code",
      "source": [
        "a[0]"
      ],
      "metadata": {
        "colab": {
          "base_uri": "https://localhost:8080/"
        },
        "id": "TNwKxM3vKPb7",
        "outputId": "bc354a88-e1d6-4e6d-cffe-ef4249e07494"
      },
      "execution_count": null,
      "outputs": [
        {
          "output_type": "execute_result",
          "data": {
            "text/plain": [
              "array([1, 2, 3])"
            ]
          },
          "metadata": {},
          "execution_count": 8
        }
      ]
    },
    {
      "cell_type": "code",
      "source": [
        "a[0,2]"
      ],
      "metadata": {
        "colab": {
          "base_uri": "https://localhost:8080/"
        },
        "id": "S2i8GWEtKSB7",
        "outputId": "38739b5c-9ef4-48b6-fd9d-90395d609684"
      },
      "execution_count": null,
      "outputs": [
        {
          "output_type": "execute_result",
          "data": {
            "text/plain": [
              "3"
            ]
          },
          "metadata": {},
          "execution_count": 12
        }
      ]
    },
    {
      "cell_type": "code",
      "source": [
        "# error if different size, every dimension should have same no of element\n",
        "b = np.array([[1,2,3],[4,5,7]])"
      ],
      "metadata": {
        "id": "9Esy0qq8KXzo"
      },
      "execution_count": null,
      "outputs": []
    },
    {
      "cell_type": "code",
      "source": [
        "b.ndim"
      ],
      "metadata": {
        "colab": {
          "base_uri": "https://localhost:8080/"
        },
        "id": "CB4ifHbNLAnX",
        "outputId": "40469c49-f648-46ed-b8d7-0fb433f524e0"
      },
      "execution_count": null,
      "outputs": [
        {
          "output_type": "execute_result",
          "data": {
            "text/plain": [
              "2"
            ]
          },
          "metadata": {},
          "execution_count": 19
        }
      ]
    },
    {
      "cell_type": "code",
      "source": [
        "b[1,1]"
      ],
      "metadata": {
        "colab": {
          "base_uri": "https://localhost:8080/"
        },
        "id": "2GGW1nSsLUhP",
        "outputId": "8ef9c6f4-8bbf-4c5f-a724-0253daad5b6a"
      },
      "execution_count": null,
      "outputs": [
        {
          "output_type": "execute_result",
          "data": {
            "text/plain": [
              "5"
            ]
          },
          "metadata": {},
          "execution_count": 20
        }
      ]
    },
    {
      "cell_type": "code",
      "source": [
        "#  a 3_dimensional array\n",
        "c = np.array([[[1,2,3],[4,5,6],[0,0,-1]],[[-1,-2,-3],[-4,-5,-6],[0,0,1]]])"
      ],
      "metadata": {
        "id": "qNl25of-LYrT"
      },
      "execution_count": null,
      "outputs": []
    },
    {
      "cell_type": "code",
      "source": [
        "c.ndim"
      ],
      "metadata": {
        "colab": {
          "base_uri": "https://localhost:8080/"
        },
        "id": "tlhaxiMWLuRy",
        "outputId": "59cdd439-4ee0-4c34-e75e-f2bd13ff5ded"
      },
      "execution_count": null,
      "outputs": [
        {
          "output_type": "execute_result",
          "data": {
            "text/plain": [
              "3"
            ]
          },
          "metadata": {},
          "execution_count": 22
        }
      ]
    },
    {
      "cell_type": "code",
      "source": [
        "c[1,1,1]"
      ],
      "metadata": {
        "colab": {
          "base_uri": "https://localhost:8080/"
        },
        "id": "_wAMD_wWL6aO",
        "outputId": "cea1e4c9-20a5-4bd4-a445-98d7d0c13489"
      },
      "execution_count": null,
      "outputs": [
        {
          "output_type": "execute_result",
          "data": {
            "text/plain": [
              "-5"
            ]
          },
          "metadata": {},
          "execution_count": 23
        }
      ]
    },
    {
      "cell_type": "code",
      "source": [
        "# It give total number of 2D array\n",
        "c.shape[0]"
      ],
      "metadata": {
        "colab": {
          "base_uri": "https://localhost:8080/"
        },
        "id": "KW8WWFIlbyWM",
        "outputId": "da275d8b-0fc9-4fed-f513-1c1fb9c37536"
      },
      "execution_count": null,
      "outputs": [
        {
          "output_type": "execute_result",
          "data": {
            "text/plain": [
              "2"
            ]
          },
          "metadata": {},
          "execution_count": 14
        }
      ]
    },
    {
      "cell_type": "code",
      "source": [
        "\n",
        "# It give total number of 1D array\n",
        "c.shape[1]\n"
      ],
      "metadata": {
        "colab": {
          "base_uri": "https://localhost:8080/"
        },
        "id": "vZH0WDGBctsb",
        "outputId": "fda256ca-9ebe-4c27-97d2-06e2a05984cf"
      },
      "execution_count": null,
      "outputs": [
        {
          "output_type": "execute_result",
          "data": {
            "text/plain": [
              "3"
            ]
          },
          "metadata": {},
          "execution_count": 15
        }
      ]
    },
    {
      "cell_type": "code",
      "source": [
        "\n",
        "# It give total element in one 1D array\n",
        "c.shape[2]"
      ],
      "metadata": {
        "colab": {
          "base_uri": "https://localhost:8080/"
        },
        "id": "40p6K4_scv9e",
        "outputId": "d18dc551-8c2c-4b7b-fa4c-e91bfeb147c9"
      },
      "execution_count": null,
      "outputs": [
        {
          "output_type": "execute_result",
          "data": {
            "text/plain": [
              "3"
            ]
          },
          "metadata": {},
          "execution_count": 16
        }
      ]
    },
    {
      "cell_type": "code",
      "source": [
        "d= np.array([2])"
      ],
      "metadata": {
        "id": "d7KBzhdpc0dA"
      },
      "execution_count": null,
      "outputs": []
    },
    {
      "cell_type": "code",
      "source": [
        "d.ndim"
      ],
      "metadata": {
        "colab": {
          "base_uri": "https://localhost:8080/"
        },
        "id": "X2hD0e-Hc5k9",
        "outputId": "5d79673a-c4fb-476f-a0c8-1abea4f04a82"
      },
      "execution_count": null,
      "outputs": [
        {
          "output_type": "execute_result",
          "data": {
            "text/plain": [
              "1"
            ]
          },
          "metadata": {},
          "execution_count": 18
        }
      ]
    },
    {
      "cell_type": "code",
      "source": [
        "# 0D array\n",
        "e = np.array(3)"
      ],
      "metadata": {
        "id": "PNekEw7Zc9eF"
      },
      "execution_count": null,
      "outputs": []
    },
    {
      "cell_type": "code",
      "source": [
        "e.ndim"
      ],
      "metadata": {
        "colab": {
          "base_uri": "https://localhost:8080/"
        },
        "id": "DXKjbwajdDLv",
        "outputId": "68b72bf1-0fd8-48b2-a21e-c0a7fbe4e1d9"
      },
      "execution_count": null,
      "outputs": [
        {
          "output_type": "execute_result",
          "data": {
            "text/plain": [
              "0"
            ]
          },
          "metadata": {},
          "execution_count": 20
        }
      ]
    },
    {
      "cell_type": "code",
      "source": [
        "# To find total number of element in array\n",
        "c.size"
      ],
      "metadata": {
        "colab": {
          "base_uri": "https://localhost:8080/"
        },
        "id": "MMOmyD8DdMPF",
        "outputId": "da7096b3-36f9-4e9d-9aa1-ee5556fed7d2"
      },
      "execution_count": null,
      "outputs": [
        {
          "output_type": "execute_result",
          "data": {
            "text/plain": [
              "18"
            ]
          },
          "metadata": {},
          "execution_count": 21
        }
      ]
    },
    {
      "cell_type": "code",
      "source": [
        "c.nbytes"
      ],
      "metadata": {
        "colab": {
          "base_uri": "https://localhost:8080/"
        },
        "id": "3uzCAVPEdTc1",
        "outputId": "ace80b9e-fae8-4427-a005-ccba84540929"
      },
      "execution_count": null,
      "outputs": [
        {
          "output_type": "execute_result",
          "data": {
            "text/plain": [
              "144"
            ]
          },
          "metadata": {},
          "execution_count": 22
        }
      ]
    },
    {
      "cell_type": "code",
      "source": [
        "# create an array till n-1\n",
        "f = np.arange(100)"
      ],
      "metadata": {
        "id": "GIRk9WhsdjZW"
      },
      "execution_count": null,
      "outputs": []
    },
    {
      "cell_type": "code",
      "source": [
        "print(f)"
      ],
      "metadata": {
        "colab": {
          "base_uri": "https://localhost:8080/"
        },
        "id": "e8j-l4_0d1ko",
        "outputId": "ed6bb7a1-c9f3-44b3-d4da-bfae3cdc194a"
      },
      "execution_count": null,
      "outputs": [
        {
          "output_type": "stream",
          "name": "stdout",
          "text": [
            "[ 0  1  2  3  4  5  6  7  8  9 10 11 12 13 14 15 16 17 18 19 20 21 22 23\n",
            " 24 25 26 27 28 29 30 31 32 33 34 35 36 37 38 39 40 41 42 43 44 45 46 47\n",
            " 48 49 50 51 52 53 54 55 56 57 58 59 60 61 62 63 64 65 66 67 68 69 70 71\n",
            " 72 73 74 75 76 77 78 79 80 81 82 83 84 85 86 87 88 89 90 91 92 93 94 95\n",
            " 96 97 98 99]\n"
          ]
        }
      ]
    },
    {
      "cell_type": "code",
      "source": [
        "f=np.arange(20,100)\n",
        "print(f)"
      ],
      "metadata": {
        "colab": {
          "base_uri": "https://localhost:8080/"
        },
        "id": "UelqqXtFd68i",
        "outputId": "caa6b150-99d1-434d-ac87-8bd8fc8959de"
      },
      "execution_count": null,
      "outputs": [
        {
          "output_type": "stream",
          "name": "stdout",
          "text": [
            "[20 21 22 23 24 25 26 27 28 29 30 31 32 33 34 35 36 37 38 39 40 41 42 43\n",
            " 44 45 46 47 48 49 50 51 52 53 54 55 56 57 58 59 60 61 62 63 64 65 66 67\n",
            " 68 69 70 71 72 73 74 75 76 77 78 79 80 81 82 83 84 85 86 87 88 89 90 91\n",
            " 92 93 94 95 96 97 98 99]\n"
          ]
        }
      ]
    },
    {
      "cell_type": "code",
      "source": [
        "f=np.arange(20,100,3)\n",
        "print(f)"
      ],
      "metadata": {
        "colab": {
          "base_uri": "https://localhost:8080/"
        },
        "id": "MNRS4TD3eCfe",
        "outputId": "6fddbd4c-7ed2-4a94-f9c1-79aba13bc9b7"
      },
      "execution_count": null,
      "outputs": [
        {
          "output_type": "stream",
          "name": "stdout",
          "text": [
            "[20 23 26 29 32 35 38 41 44 47 50 53 56 59 62 65 68 71 74 77 80 83 86 89\n",
            " 92 95 98]\n"
          ]
        }
      ]
    },
    {
      "cell_type": "code",
      "source": [
        "# Range in for loop\n",
        "print(range(10))\n",
        "print(list(range(10)))"
      ],
      "metadata": {
        "colab": {
          "base_uri": "https://localhost:8080/"
        },
        "id": "WoIEwSNteMMn",
        "outputId": "60c9034c-3c21-4e67-dffd-e0e5b2007ab6"
      },
      "execution_count": null,
      "outputs": [
        {
          "output_type": "stream",
          "name": "stdout",
          "text": [
            "range(0, 10)\n",
            "[0, 1, 2, 3, 4, 5, 6, 7, 8, 9]\n"
          ]
        }
      ]
    },
    {
      "cell_type": "code",
      "source": [
        "A = np.random.permutation(np.arange(10))\n",
        "print(A)"
      ],
      "metadata": {
        "colab": {
          "base_uri": "https://localhost:8080/"
        },
        "id": "VYbKouryesCf",
        "outputId": "2a383686-9625-4a26-e2db-699e08e8f534"
      },
      "execution_count": null,
      "outputs": [
        {
          "output_type": "stream",
          "name": "stdout",
          "text": [
            "[8 0 1 7 2 4 6 5 3 9]\n"
          ]
        }
      ]
    },
    {
      "cell_type": "code",
      "source": [
        "v=np.random.randint(20,30)\n",
        "print(v)\n",
        "type(v)"
      ],
      "metadata": {
        "colab": {
          "base_uri": "https://localhost:8080/"
        },
        "id": "NhDJROFSfO4X",
        "outputId": "28025d52-ba69-43af-f491-ed9cba6a7ac1"
      },
      "execution_count": null,
      "outputs": [
        {
          "output_type": "stream",
          "name": "stdout",
          "text": [
            "26\n"
          ]
        },
        {
          "output_type": "execute_result",
          "data": {
            "text/plain": [
              "int"
            ]
          },
          "metadata": {},
          "execution_count": 33
        }
      ]
    },
    {
      "cell_type": "code",
      "source": [
        "# Just like manual\n",
        "np.random.randint?"
      ],
      "metadata": {
        "id": "dx-u2pqPiBHR"
      },
      "execution_count": null,
      "outputs": []
    },
    {
      "cell_type": "code",
      "source": [
        "# reshape is use to create a n-dimension array from m-dimension array\n",
        "# rand give value between 0 and 1\n",
        "A = np.random.rand(1000)\n",
        "print(A)"
      ],
      "metadata": {
        "colab": {
          "base_uri": "https://localhost:8080/"
        },
        "id": "1S2jOvoGfnyp",
        "outputId": "d3bb774c-0ffa-433e-b424-f811dd3f9963"
      },
      "execution_count": null,
      "outputs": [
        {
          "output_type": "stream",
          "name": "stdout",
          "text": [
            "[4.86482047e-01 5.48441953e-02 8.25614071e-01 8.81526070e-01\n",
            " 6.85408156e-01 9.44966880e-01 1.73586902e-02 3.81957502e-01\n",
            " 9.82713064e-01 9.07085362e-01 1.01589633e-01 9.29923945e-02\n",
            " 4.94987483e-01 3.95501977e-01 2.34215876e-01 9.45771053e-01\n",
            " 6.58733860e-01 8.69226188e-01 2.79460313e-01 8.29043984e-01\n",
            " 2.09674156e-01 3.80669538e-01 3.09656839e-01 7.17807209e-02\n",
            " 9.66865820e-01 4.58891702e-01 3.49811858e-01 6.04958641e-01\n",
            " 6.92359161e-01 2.87308512e-01 2.07200460e-01 3.51286057e-01\n",
            " 9.78378329e-02 9.83418551e-01 8.71431488e-03 4.02797813e-01\n",
            " 3.04777830e-01 3.40138858e-01 3.95331216e-01 9.28559667e-01\n",
            " 7.42312499e-01 7.54424674e-01 6.07283730e-01 7.16336008e-01\n",
            " 8.63572419e-01 2.57606796e-01 4.05305434e-01 6.92627422e-01\n",
            " 9.25891059e-01 4.07544248e-01 3.34573381e-01 7.08212509e-01\n",
            " 8.57897682e-01 2.06861803e-02 1.78432366e-01 5.05997193e-01\n",
            " 1.43559330e-02 1.28072171e-01 2.49094333e-01 5.45642997e-01\n",
            " 2.55682791e-01 1.30301833e-01 6.81467531e-02 5.55894306e-01\n",
            " 1.65990888e-01 3.26104956e-01 1.78938922e-01 5.26887337e-01\n",
            " 7.28309159e-01 2.81853773e-01 4.29859707e-01 7.19466169e-01\n",
            " 2.38863274e-01 1.80719219e-01 5.83578591e-01 3.23390671e-01\n",
            " 2.54135970e-01 2.79094027e-02 9.86835359e-01 7.69106677e-01\n",
            " 3.22511801e-01 2.78744177e-01 8.94918278e-01 2.12810453e-01\n",
            " 7.30070858e-01 4.83466229e-01 5.38961136e-01 1.10411193e-01\n",
            " 1.22789503e-01 3.18903662e-02 7.33831842e-01 2.53300031e-01\n",
            " 7.89371451e-01 6.80548388e-01 6.34985671e-01 2.73128675e-01\n",
            " 2.44079901e-01 8.83668786e-01 8.58952550e-01 9.14027736e-01\n",
            " 7.11181110e-01 6.54689557e-01 4.58371080e-01 3.18968261e-01\n",
            " 5.76542540e-02 4.66669234e-01 6.22346970e-01 7.83986515e-01\n",
            " 1.60627460e-01 4.79972649e-01 5.50250492e-01 5.88760502e-01\n",
            " 6.80035360e-01 3.14423973e-01 3.88371335e-01 8.95358177e-02\n",
            " 4.65350445e-01 9.39229078e-01 7.82218980e-01 5.38528797e-01\n",
            " 2.24568335e-01 9.35569279e-01 7.72604991e-01 9.34429842e-01\n",
            " 1.21129291e-01 7.99349360e-01 5.15379854e-01 5.11219005e-01\n",
            " 6.51898160e-01 6.51988324e-01 1.52750793e-01 8.70706251e-01\n",
            " 5.33051547e-02 5.56661047e-01 5.97676296e-02 4.25254717e-01\n",
            " 1.52789892e-01 4.62840993e-01 5.04792130e-01 3.90083048e-01\n",
            " 9.13901256e-01 8.07129025e-01 7.95185799e-02 5.32903860e-01\n",
            " 2.03196686e-01 5.58498939e-01 9.21137034e-01 5.92945660e-01\n",
            " 6.16590745e-02 6.73420643e-01 3.29480385e-01 6.79070239e-01\n",
            " 9.35879686e-01 1.29551179e-01 3.48425884e-01 3.38894600e-01\n",
            " 4.37758798e-01 8.29488581e-01 2.55216516e-01 1.02427110e-01\n",
            " 2.47575715e-01 6.90085645e-01 7.80150931e-01 4.38356752e-02\n",
            " 8.03803205e-01 5.34719716e-01 8.88750602e-01 3.08398770e-01\n",
            " 2.26486100e-01 7.03367265e-01 7.98374530e-01 3.80335261e-01\n",
            " 6.30369570e-01 7.83483020e-01 7.11572277e-01 7.54624446e-02\n",
            " 4.03391866e-02 8.80049695e-02 6.01856347e-01 4.38090418e-01\n",
            " 2.11657875e-01 1.90208560e-02 5.07705566e-01 9.61943064e-01\n",
            " 7.87354260e-01 9.99820404e-01 1.29200356e-01 1.85251645e-03\n",
            " 1.10118435e-01 1.19529624e-01 7.65389237e-03 6.84862130e-01\n",
            " 3.40645063e-01 4.54014878e-01 1.08463107e-01 5.12376538e-01\n",
            " 7.80813659e-01 7.88821394e-01 2.56051042e-01 9.78162601e-02\n",
            " 4.35529492e-01 5.33187415e-01 4.61737277e-01 9.04564410e-01\n",
            " 9.41711685e-03 7.44010009e-01 9.03550599e-01 3.72341646e-02\n",
            " 8.38295871e-01 7.41265620e-01 2.59989728e-01 5.28344133e-01\n",
            " 6.76452439e-01 2.60014799e-01 7.84617475e-01 6.73984204e-01\n",
            " 2.59301284e-01 3.44027004e-02 9.13365502e-01 1.40931300e-01\n",
            " 2.20039916e-01 1.65080778e-01 9.80890730e-01 7.79777838e-01\n",
            " 7.35625154e-01 2.93206122e-01 2.14775670e-01 1.99743806e-01\n",
            " 8.89574776e-01 5.16109608e-01 8.21587478e-01 5.18066005e-01\n",
            " 3.28735935e-01 6.62771506e-01 5.76534583e-01 4.91512330e-01\n",
            " 8.18752283e-01 1.62952587e-02 5.23583993e-01 4.64944492e-01\n",
            " 8.31737747e-01 7.31096479e-01 6.61416047e-01 5.77761815e-01\n",
            " 9.60186481e-01 8.28570270e-02 1.26176672e-01 5.37904305e-01\n",
            " 2.13593840e-01 6.02164412e-01 1.25475716e-01 2.84250517e-01\n",
            " 4.05561834e-01 1.26356575e-01 1.22251318e-01 5.12527475e-01\n",
            " 3.27149248e-01 7.88219374e-01 4.89556510e-01 1.09446824e-01\n",
            " 7.09336208e-01 2.55609989e-01 7.41364605e-01 7.10734849e-02\n",
            " 2.81358673e-01 1.04113182e-01 7.46816947e-01 5.19906549e-01\n",
            " 6.94017378e-01 3.14136021e-01 5.52974951e-01 5.48745479e-01\n",
            " 1.54719932e-01 2.32104658e-01 3.73435211e-01 3.40318966e-01\n",
            " 7.46785146e-01 4.31762402e-01 6.28927582e-01 8.34578385e-01\n",
            " 9.80999814e-01 2.10649836e-01 7.96207711e-01 5.88009005e-01\n",
            " 1.95031026e-01 3.24404913e-02 8.78010700e-01 9.34386853e-01\n",
            " 6.16732522e-01 2.14059284e-01 1.68417598e-01 9.64692955e-01\n",
            " 2.24623651e-01 7.81995117e-01 5.66535182e-01 6.67188887e-01\n",
            " 2.60934251e-01 4.34669093e-01 4.06900323e-01 8.75785221e-01\n",
            " 4.56177174e-01 1.39413522e-01 1.29729285e-01 6.14431501e-01\n",
            " 8.72376910e-01 6.76740873e-01 6.93113945e-01 6.24018036e-01\n",
            " 3.50601645e-01 2.26884043e-01 3.14032470e-01 9.09935550e-01\n",
            " 9.09647691e-01 1.33658235e-01 4.60765438e-03 7.88836513e-02\n",
            " 8.10352230e-01 1.04026783e-01 7.22136848e-01 7.95240563e-01\n",
            " 9.69936361e-01 3.20541725e-01 9.26175024e-01 4.18477870e-01\n",
            " 4.65765065e-01 5.64891417e-01 7.67816214e-01 9.08894507e-01\n",
            " 1.52731636e-01 7.05149255e-01 7.42462749e-01 9.43617532e-01\n",
            " 7.89914671e-01 7.49525943e-01 5.35700413e-01 2.88081092e-01\n",
            " 6.39671948e-01 8.07018043e-01 5.26359749e-01 5.40338558e-01\n",
            " 5.30289763e-01 6.74835233e-01 6.84414555e-01 5.31647885e-01\n",
            " 6.58913650e-01 3.10325585e-02 1.21629696e-01 5.49934057e-01\n",
            " 1.45744420e-01 3.61431989e-01 3.82197132e-02 4.83519251e-01\n",
            " 5.35991771e-01 4.77280993e-01 6.53433833e-01 1.22194728e-01\n",
            " 3.08711332e-01 2.83872389e-01 7.64266708e-02 8.24818250e-01\n",
            " 6.53355207e-01 4.70519403e-01 6.50397078e-01 6.46859590e-01\n",
            " 5.45119215e-01 6.78402276e-01 3.20860997e-02 9.37783829e-02\n",
            " 9.51345638e-01 5.37034262e-01 5.28500579e-01 2.53805637e-01\n",
            " 8.23615017e-01 1.76646812e-01 6.25332566e-01 4.53394965e-01\n",
            " 5.19702367e-01 7.25173843e-01 2.84233394e-01 3.34930431e-01\n",
            " 5.49711915e-02 4.98180579e-01 5.25125381e-02 1.37635156e-01\n",
            " 9.47021176e-01 8.58035851e-02 2.71811668e-01 8.37827917e-01\n",
            " 3.60120087e-01 2.98399656e-01 4.33167676e-01 3.21558392e-01\n",
            " 3.47556350e-01 8.73351478e-01 3.74938692e-01 1.33577496e-01\n",
            " 3.10663913e-01 2.62608818e-01 8.69060307e-01 9.69044042e-02\n",
            " 7.30088709e-01 4.22618242e-01 6.42364427e-01 2.25711391e-01\n",
            " 8.47083130e-01 6.20564881e-01 5.60762209e-01 3.12967329e-01\n",
            " 2.39553545e-01 3.64670199e-02 9.29110811e-01 8.88899646e-01\n",
            " 4.93154474e-01 8.95823378e-01 9.13995705e-01 4.67702932e-01\n",
            " 4.22853859e-01 8.14405251e-01 3.15109158e-01 8.82109249e-01\n",
            " 8.91431243e-01 6.33655311e-01 2.57248439e-01 4.71827046e-02\n",
            " 3.82246660e-01 4.72704479e-01 7.86371590e-01 9.43983049e-01\n",
            " 7.76919281e-01 7.25506011e-01 1.60845664e-01 3.98377636e-01\n",
            " 3.84270748e-02 6.84798396e-01 9.22766761e-01 8.33247382e-01\n",
            " 6.85010583e-01 6.54089403e-01 2.02351066e-01 3.14434985e-01\n",
            " 3.28728916e-01 8.36759337e-01 9.67165074e-01 3.42657756e-01\n",
            " 3.63627718e-01 8.95076293e-01 7.96608834e-01 7.63085629e-01\n",
            " 9.66753850e-01 7.09585039e-01 1.81961518e-01 8.20363900e-01\n",
            " 4.13565507e-01 3.35742799e-01 3.73975080e-01 9.91644445e-01\n",
            " 5.39392774e-01 4.25746087e-01 8.80289364e-01 1.95882180e-01\n",
            " 5.01956055e-01 6.79795242e-01 6.86835457e-01 8.08233245e-01\n",
            " 5.05511616e-01 1.15057917e-01 4.65080350e-01 5.37817437e-01\n",
            " 1.64762893e-01 9.41042088e-01 8.01048738e-01 3.07951877e-01\n",
            " 5.15109111e-01 5.62055724e-01 1.06187989e-03 2.25487655e-01\n",
            " 8.88320445e-01 1.54334501e-01 2.83573078e-01 6.83647483e-02\n",
            " 9.51971129e-01 5.52879473e-01 5.65637177e-01 7.74665082e-01\n",
            " 2.54467916e-01 7.09863349e-01 6.07623449e-02 1.06818691e-01\n",
            " 9.50030846e-01 4.97296199e-01 1.94115044e-01 1.96557246e-01\n",
            " 4.17207656e-01 7.85273758e-02 4.52573662e-01 3.62741991e-01\n",
            " 6.43744611e-01 1.52945241e-01 4.52644464e-01 9.76196679e-01\n",
            " 7.64178326e-01 4.68983353e-01 5.48481548e-01 8.39760112e-01\n",
            " 1.12582994e-01 8.03884593e-01 4.35075996e-01 7.77609744e-01\n",
            " 1.33151563e-01 2.42045893e-01 6.86655495e-01 6.33731293e-01\n",
            " 1.53239769e-03 6.05603514e-01 8.51348255e-02 9.90197622e-01\n",
            " 6.10130683e-01 4.53822624e-01 7.99391565e-01 4.65396697e-01\n",
            " 8.94518586e-01 9.62022915e-02 4.51328161e-01 9.54711686e-01\n",
            " 9.17045266e-02 7.10310421e-01 4.23878157e-01 8.92125666e-01\n",
            " 4.06692614e-01 1.81542251e-01 6.09906748e-01 9.94082587e-01\n",
            " 3.52496624e-01 2.57014389e-01 7.79273046e-01 6.37515018e-01\n",
            " 2.13414388e-01 6.73448735e-01 3.00052203e-01 8.56162517e-01\n",
            " 9.48606893e-01 2.24613261e-01 4.89131312e-01 9.80413481e-01\n",
            " 9.61764453e-01 1.33425311e-01 9.71866357e-01 4.93328072e-01\n",
            " 4.60996887e-01 5.23068242e-02 8.50308786e-01 7.17579734e-03\n",
            " 2.83700261e-01 7.22172609e-01 5.96532585e-01 9.08719144e-01\n",
            " 6.15687769e-01 3.68243311e-01 4.07244587e-01 9.24449868e-01\n",
            " 9.34170797e-01 9.82781148e-02 9.21034314e-01 1.85081172e-01\n",
            " 7.71265192e-01 4.91296155e-01 1.76955927e-01 1.69748735e-01\n",
            " 3.95957147e-01 1.45532618e-01 5.91824651e-01 5.02001818e-01\n",
            " 6.80070946e-01 3.54116152e-01 4.55661412e-01 6.81389267e-01\n",
            " 2.63079753e-01 5.84292843e-01 6.17852019e-01 7.46038532e-01\n",
            " 4.51903410e-01 8.58900721e-01 7.75254156e-02 4.73634545e-01\n",
            " 2.55272082e-01 6.09316583e-01 2.01800471e-01 9.34327940e-01\n",
            " 1.93893699e-01 9.45327404e-01 6.40291283e-01 6.26175349e-01\n",
            " 6.62206130e-01 1.65892557e-01 4.49176073e-01 5.47970280e-02\n",
            " 9.23717972e-01 5.18496848e-01 7.59489357e-01 1.91201483e-01\n",
            " 3.97498930e-01 6.13485891e-01 8.41387293e-01 2.77283574e-01\n",
            " 5.87144536e-01 4.01814885e-01 5.47484030e-01 1.71398493e-01\n",
            " 8.84542746e-01 9.59259767e-01 5.51989693e-01 9.76672628e-02\n",
            " 8.74302507e-01 9.95456010e-01 8.09739429e-01 5.48131999e-01\n",
            " 1.23056432e-01 5.51990429e-01 1.13290314e-01 4.41222885e-01\n",
            " 4.15923563e-01 8.73790819e-01 1.44300908e-01 1.86347872e-01\n",
            " 4.38462322e-01 6.92614320e-01 9.33870977e-01 6.24843036e-01\n",
            " 4.05627809e-01 5.58877176e-02 5.58927665e-01 9.68208258e-01\n",
            " 1.12466533e-01 6.07969611e-01 3.81625836e-01 9.15246551e-01\n",
            " 9.30367982e-02 1.41544012e-01 9.81009688e-01 4.16731722e-01\n",
            " 1.74449600e-01 7.53023388e-01 7.75635628e-02 4.09514611e-01\n",
            " 2.24587753e-01 4.77294986e-01 2.18679398e-01 6.76562049e-01\n",
            " 2.48511435e-01 6.77355888e-01 6.69775061e-01 5.03956414e-01\n",
            " 2.99353449e-01 4.87267808e-01 3.08991781e-01 1.84955338e-01\n",
            " 6.38664703e-01 4.92330971e-01 5.39886932e-01 9.04813644e-01\n",
            " 6.88410092e-01 7.16727886e-01 4.62215703e-01 7.17278318e-01\n",
            " 6.04530393e-01 9.01941135e-01 1.31838467e-01 6.02832395e-01\n",
            " 7.54747809e-01 4.05961989e-01 4.29648796e-01 1.72560179e-01\n",
            " 3.59404014e-01 9.13614888e-01 2.99185944e-01 5.90579098e-01\n",
            " 4.20334402e-01 2.89172966e-01 3.99417489e-01 4.49445003e-01\n",
            " 3.93623197e-01 6.67165172e-01 8.86832636e-01 9.84259693e-01\n",
            " 4.36617807e-01 6.12455955e-01 6.76536447e-01 4.81149361e-01\n",
            " 2.77322439e-01 2.04985747e-01 6.14815890e-01 2.18162537e-01\n",
            " 4.84670196e-01 4.84096560e-01 6.40281936e-01 3.67106049e-01\n",
            " 4.15683419e-01 1.94068020e-01 5.44814559e-01 5.43861788e-02\n",
            " 7.83907063e-01 9.69932541e-01 5.41857814e-02 8.21401685e-01\n",
            " 7.44093942e-01 9.62849344e-01 4.07783329e-01 7.64863101e-01\n",
            " 9.50252902e-01 5.97595533e-01 1.63733217e-01 7.88382287e-01\n",
            " 2.07905332e-02 4.05812167e-01 3.81590558e-01 2.52831976e-01\n",
            " 8.68922073e-01 2.64828132e-01 3.40143631e-01 9.71060732e-01\n",
            " 3.59738379e-01 3.35374292e-01 2.70367899e-01 4.60772610e-01\n",
            " 6.91877874e-01 5.73014796e-01 9.87514084e-01 1.55441586e-01\n",
            " 3.09458838e-01 8.52540244e-01 2.72970395e-02 3.47180772e-01\n",
            " 3.02646650e-01 4.51629354e-01 7.70494958e-02 3.44555415e-01\n",
            " 9.16398437e-01 8.35612842e-01 7.91627636e-01 6.77349888e-01\n",
            " 6.37375606e-01 7.64284614e-01 8.87269291e-01 6.77784003e-01\n",
            " 1.05055970e-01 5.95397197e-01 9.24460546e-01 4.83097095e-01\n",
            " 6.33251433e-01 1.33401611e-01 7.42953403e-01 5.61023130e-01\n",
            " 2.65857486e-01 6.24451859e-01 3.35061214e-01 5.58955858e-01\n",
            " 8.86164532e-02 4.80516122e-01 3.32901745e-01 3.89621322e-01\n",
            " 4.54607668e-02 9.64175785e-01 3.30620300e-01 2.65935320e-01\n",
            " 1.83663346e-01 9.46797948e-01 1.60877001e-02 2.86501596e-01\n",
            " 9.89926417e-01 8.29561283e-02 5.82182753e-01 8.64007703e-01\n",
            " 3.02336894e-01 2.27561580e-01 2.95356980e-01 4.30343962e-01\n",
            " 4.82898288e-01 7.14614999e-01 4.02732701e-01 1.26108261e-01\n",
            " 5.96859545e-01 7.31710699e-01 4.64348341e-01 8.23061008e-01\n",
            " 7.71626356e-01 2.05961078e-01 1.15347690e-01 2.82774874e-01\n",
            " 4.69921550e-01 6.16122396e-01 7.80699838e-02 8.91350575e-01\n",
            " 1.23743984e-02 6.44848951e-01 5.01926049e-01 5.70911333e-01\n",
            " 7.62352790e-01 5.60713039e-01 3.09447866e-01 2.92948456e-01\n",
            " 2.83883084e-01 9.77814559e-01 1.22341385e-01 3.17607276e-01\n",
            " 6.19141533e-01 4.13719502e-01 1.67609295e-01 1.96406241e-01\n",
            " 8.05140922e-01 2.41477332e-01 3.23067598e-01 9.63219420e-01\n",
            " 4.51855978e-01 6.63901062e-01 1.83234765e-01 9.50226463e-01\n",
            " 8.73084489e-01 5.08375663e-01 4.03360264e-02 7.00936068e-01\n",
            " 4.57201892e-01 3.79646757e-01 9.84001212e-01 5.83284932e-01\n",
            " 3.99802639e-01 3.58586015e-01 4.45964080e-01 5.56058616e-01\n",
            " 2.01412406e-01 3.62386074e-01 8.01803454e-01 7.08179330e-01\n",
            " 6.05862839e-01 7.84684599e-01 5.52949002e-01 8.51922089e-01\n",
            " 7.55132549e-01 9.37640939e-02 2.10983804e-02 8.46149262e-01\n",
            " 2.00286357e-01 6.85868243e-01 7.68027942e-01 1.47545023e-01\n",
            " 5.56912063e-01 6.09330312e-01 4.57463880e-01 6.58583137e-02\n",
            " 9.31555129e-01 4.01974988e-01 6.10389951e-01 8.21811534e-01\n",
            " 7.88967398e-01 8.76142297e-01 7.19639318e-01 3.80732612e-01\n",
            " 8.44628793e-01 3.33991353e-01 6.44723115e-01 2.97584109e-01\n",
            " 1.88963054e-01 6.90372088e-01 2.57515341e-01 5.10109147e-01\n",
            " 2.67100592e-01 5.73949494e-01 2.13157517e-01 4.44836295e-01\n",
            " 8.38564245e-01 6.36413949e-01 9.15962717e-01 3.93346648e-01\n",
            " 5.68900418e-01 4.62578836e-01 5.93503023e-01 6.71461484e-01\n",
            " 2.57853513e-01 4.78846547e-01 3.18113377e-01 2.08945708e-01\n",
            " 3.17076904e-01 4.40684657e-01 4.72520478e-01 2.51593500e-01\n",
            " 8.10758925e-01 2.02620151e-01 1.74125855e-01 2.99042943e-01\n",
            " 6.12353897e-01 9.54596852e-01 5.65871431e-01 5.92778484e-01\n",
            " 2.80484337e-02 1.96454020e-01 1.16560001e-01 8.16987531e-01\n",
            " 6.92358291e-01 3.76033131e-01 9.33780864e-01 9.24136731e-02\n",
            " 7.73075940e-01 9.06196892e-01 8.29999596e-01 1.86563984e-01\n",
            " 8.23853237e-01 4.67184598e-02 2.07709127e-01 7.62065555e-01\n",
            " 3.08299694e-01 1.58292244e-01 4.45365334e-02 4.22892388e-01\n",
            " 2.14991671e-01 8.37248778e-01 6.42760994e-01 9.55758020e-01\n",
            " 4.05549157e-01 7.32027509e-02 9.89151071e-01 8.03468187e-01\n",
            " 5.61169531e-04 6.06573578e-01 4.79148017e-01 8.02091122e-01\n",
            " 7.73279434e-01 5.65846222e-01 8.21716248e-01 2.06788431e-01\n",
            " 3.24854542e-01 3.05500105e-02 1.24465145e-01 2.99095690e-01\n",
            " 6.20469476e-01 4.69886765e-01 3.99678123e-01 2.45293749e-01\n",
            " 4.19181534e-01 2.71340157e-01 9.59659818e-01 7.32069319e-01\n",
            " 1.63051630e-02 1.10473723e-01 4.53405475e-01 1.48345043e-01\n",
            " 7.75096428e-01 5.68557531e-01 6.96227374e-01 2.09802193e-01\n",
            " 1.46139718e-02 8.92518035e-01 7.10182698e-01 3.82538938e-01\n",
            " 5.04900557e-01 3.31246945e-01 6.78795949e-01 5.34556705e-01\n",
            " 6.73822695e-01 3.87470351e-02 6.08034103e-01 1.83787902e-02\n",
            " 7.67068947e-01 3.62356635e-01 1.09095329e-03 7.00791660e-01\n",
            " 8.25636423e-01 9.00015515e-01 3.87125426e-01 5.19854248e-01\n",
            " 5.47234400e-01 9.93936144e-01 2.60653785e-01 7.25470898e-01\n",
            " 1.97573984e-01 8.43873714e-01 3.25769607e-01 6.51973012e-02\n",
            " 7.93174058e-01 7.94574483e-01 6.73236308e-01 7.49183094e-02\n",
            " 3.27665245e-01 7.09979622e-02 9.43057497e-01 4.81156479e-01\n",
            " 1.35920852e-01 4.18986387e-02 8.02706229e-01 5.32792629e-01\n",
            " 8.06096774e-01 6.68827727e-01 7.54994735e-02 2.70997495e-01\n",
            " 4.05005671e-01 7.32052678e-01 7.72637926e-01 5.39723953e-01\n",
            " 2.02058809e-02 9.27904037e-01 8.42493564e-01 9.15642451e-01]\n"
          ]
        }
      ]
    },
    {
      "cell_type": "code",
      "source": [
        "import matplotlib.pyplot as plt\n",
        "plt.hist(A)"
      ],
      "metadata": {
        "colab": {
          "base_uri": "https://localhost:8080/",
          "height": 517
        },
        "id": "jNnhOpCGiYAr",
        "outputId": "ea0e58c0-a2b2-457f-b6eb-231ad605b809"
      },
      "execution_count": null,
      "outputs": [
        {
          "output_type": "execute_result",
          "data": {
            "text/plain": [
              "(array([ 96., 121., 101., 100.,  87.,  89., 101., 107.,  95., 103.]),\n",
              " array([3.60206882e-04, 1.00274070e-01, 2.00187932e-01, 3.00101795e-01,\n",
              "        4.00015657e-01, 4.99929520e-01, 5.99843383e-01, 6.99757245e-01,\n",
              "        7.99671108e-01, 8.99584970e-01, 9.99498833e-01]),\n",
              " <BarContainer object of 10 artists>)"
            ]
          },
          "metadata": {},
          "execution_count": 37
        },
        {
          "output_type": "display_data",
          "data": {
            "text/plain": [
              "<Figure size 640x480 with 1 Axes>"
            ],
            "image/png": "[encoded data removed]"
          },
          "metadata": {}
        }
      ]
    },
    {
      "cell_type": "code",
      "source": [
        "B = np.random.randn(100000)\n",
        "plt.hist(B,bins=200)"
      ],
      "metadata": {
        "colab": {
          "base_uri": "https://localhost:8080/",
          "height": 1000
        },
        "id": "McwMsFKJiu27",
        "outputId": "f303791f-8782-4ca3-e319-4b6df3b14bff"
      },
      "execution_count": null,
      "outputs": [
        {
          "output_type": "execute_result",
          "data": {
            "text/plain": [
              "(array([1.000e+00, 0.000e+00, 0.000e+00, 0.000e+00, 0.000e+00, 0.000e+00,\n",
              "        0.000e+00, 0.000e+00, 1.000e+00, 0.000e+00, 0.000e+00, 1.000e+00,\n",
              "        0.000e+00, 1.000e+00, 0.000e+00, 0.000e+00, 0.000e+00, 0.000e+00,\n",
              "        0.000e+00, 0.000e+00, 0.000e+00, 0.000e+00, 1.000e+00, 1.000e+00,\n",
              "        1.000e+00, 2.000e+00, 2.000e+00, 1.000e+00, 2.000e+00, 4.000e+00,\n",
              "        6.000e+00, 2.000e+00, 8.000e+00, 7.000e+00, 1.000e+01, 1.200e+01,\n",
              "        5.000e+00, 1.200e+01, 1.300e+01, 1.900e+01, 1.600e+01, 2.400e+01,\n",
              "        1.800e+01, 2.400e+01, 2.600e+01, 3.300e+01, 4.000e+01, 4.400e+01,\n",
              "        4.200e+01, 6.300e+01, 6.100e+01, 7.200e+01, 7.800e+01, 8.400e+01,\n",
              "        9.500e+01, 1.100e+02, 1.300e+02, 1.340e+02, 1.600e+02, 1.700e+02,\n",
              "        2.090e+02, 2.140e+02, 1.970e+02, 2.290e+02, 2.650e+02, 2.930e+02,\n",
              "        3.050e+02, 3.360e+02, 3.420e+02, 3.890e+02, 4.550e+02, 4.460e+02,\n",
              "        4.780e+02, 5.280e+02, 5.790e+02, 5.850e+02, 5.800e+02, 7.000e+02,\n",
              "        7.100e+02, 7.660e+02, 8.460e+02, 9.070e+02, 8.860e+02, 9.450e+02,\n",
              "        9.610e+02, 1.075e+03, 1.087e+03, 1.161e+03, 1.203e+03, 1.217e+03,\n",
              "        1.268e+03, 1.369e+03, 1.342e+03, 1.460e+03, 1.489e+03, 1.493e+03,\n",
              "        1.489e+03, 1.540e+03, 1.573e+03, 1.706e+03, 1.674e+03, 1.683e+03,\n",
              "        1.672e+03, 1.780e+03, 1.766e+03, 1.743e+03, 1.780e+03, 1.780e+03,\n",
              "        1.748e+03, 1.768e+03, 1.775e+03, 1.830e+03, 1.760e+03, 1.709e+03,\n",
              "        1.726e+03, 1.751e+03, 1.703e+03, 1.629e+03, 1.578e+03, 1.605e+03,\n",
              "        1.593e+03, 1.442e+03, 1.419e+03, 1.386e+03, 1.403e+03, 1.290e+03,\n",
              "        1.301e+03, 1.242e+03, 1.206e+03, 1.136e+03, 1.116e+03, 1.105e+03,\n",
              "        1.005e+03, 9.030e+02, 8.870e+02, 8.140e+02, 8.450e+02, 8.150e+02,\n",
              "        7.170e+02, 6.940e+02, 6.740e+02, 6.140e+02, 5.140e+02, 5.140e+02,\n",
              "        5.290e+02, 4.390e+02, 4.620e+02, 4.020e+02, 3.500e+02, 3.390e+02,\n",
              "        3.180e+02, 3.060e+02, 2.750e+02, 2.240e+02, 2.350e+02, 1.840e+02,\n",
              "        1.670e+02, 1.360e+02, 1.640e+02, 1.390e+02, 1.250e+02, 1.220e+02,\n",
              "        1.020e+02, 9.900e+01, 7.700e+01, 5.900e+01, 6.000e+01, 5.700e+01,\n",
              "        3.300e+01, 4.100e+01, 4.800e+01, 2.600e+01, 3.400e+01, 2.700e+01,\n",
              "        2.000e+01, 2.400e+01, 1.900e+01, 1.900e+01, 1.400e+01, 9.000e+00,\n",
              "        1.100e+01, 1.100e+01, 5.000e+00, 4.000e+00, 8.000e+00, 5.000e+00,\n",
              "        2.000e+00, 5.000e+00, 2.000e+00, 1.000e+00, 1.000e+00, 2.000e+00,\n",
              "        1.000e+00, 1.000e+00, 1.000e+00, 0.000e+00, 0.000e+00, 0.000e+00,\n",
              "        0.000e+00, 2.000e+00]),\n",
              " array([-4.85768436, -4.81290945, -4.76813453, -4.72335962, -4.67858471,\n",
              "        -4.63380979, -4.58903488, -4.54425997, -4.49948506, -4.45471014,\n",
              "        -4.40993523, -4.36516032, -4.3203854 , -4.27561049, -4.23083558,\n",
              "        -4.18606067, -4.14128575, -4.09651084, -4.05173593, -4.00696101,\n",
              "        -3.9621861 , -3.91741119, -3.87263628, -3.82786136, -3.78308645,\n",
              "        -3.73831154, -3.69353662, -3.64876171, -3.6039868 , -3.55921189,\n",
              "        -3.51443697, -3.46966206, -3.42488715, -3.38011223, -3.33533732,\n",
              "        -3.29056241, -3.2457875 , -3.20101258, -3.15623767, -3.11146276,\n",
              "        -3.06668784, -3.02191293, -2.97713802, -2.93236311, -2.88758819,\n",
              "        -2.84281328, -2.79803837, -2.75326345, -2.70848854, -2.66371363,\n",
              "        -2.61893872, -2.5741638 , -2.52938889, -2.48461398, -2.43983906,\n",
              "        -2.39506415, -2.35028924, -2.30551433, -2.26073941, -2.2159645 ,\n",
              "        -2.17118959, -2.12641467, -2.08163976, -2.03686485, -1.99208994,\n",
              "        -1.94731502, -1.90254011, -1.8577652 , -1.81299028, -1.76821537,\n",
              "        -1.72344046, -1.67866555, -1.63389063, -1.58911572, -1.54434081,\n",
              "        -1.49956589, -1.45479098, -1.41001607, -1.36524116, -1.32046624,\n",
              "        -1.27569133, -1.23091642, -1.1861415 , -1.14136659, -1.09659168,\n",
              "        -1.05181677, -1.00704185, -0.96226694, -0.91749203, -0.87271711,\n",
              "        -0.8279422 , -0.78316729, -0.73839238, -0.69361746, -0.64884255,\n",
              "        -0.60406764, -0.55929272, -0.51451781, -0.4697429 , -0.42496799,\n",
              "        -0.38019307, -0.33541816, -0.29064325, -0.24586833, -0.20109342,\n",
              "        -0.15631851, -0.1115436 , -0.06676868, -0.02199377,  0.02278114,\n",
              "         0.06755606,  0.11233097,  0.15710588,  0.20188079,  0.24665571,\n",
              "         0.29143062,  0.33620553,  0.38098045,  0.42575536,  0.47053027,\n",
              "         0.51530518,  0.5600801 ,  0.60485501,  0.64962992,  0.69440484,\n",
              "         0.73917975,  0.78395466,  0.82872957,  0.87350449,  0.9182794 ,\n",
              "         0.96305431,  1.00782923,  1.05260414,  1.09737905,  1.14215396,\n",
              "         1.18692888,  1.23170379,  1.2764787 ,  1.32125362,  1.36602853,\n",
              "         1.41080344,  1.45557835,  1.50035327,  1.54512818,  1.58990309,\n",
              "         1.63467801,  1.67945292,  1.72422783,  1.76900274,  1.81377766,\n",
              "         1.85855257,  1.90332748,  1.9481024 ,  1.99287731,  2.03765222,\n",
              "         2.08242713,  2.12720205,  2.17197696,  2.21675187,  2.26152679,\n",
              "         2.3063017 ,  2.35107661,  2.39585152,  2.44062644,  2.48540135,\n",
              "         2.53017626,  2.57495118,  2.61972609,  2.664501  ,  2.70927591,\n",
              "         2.75405083,  2.79882574,  2.84360065,  2.88837557,  2.93315048,\n",
              "         2.97792539,  3.0227003 ,  3.06747522,  3.11225013,  3.15702504,\n",
              "         3.20179996,  3.24657487,  3.29134978,  3.33612469,  3.38089961,\n",
              "         3.42567452,  3.47044943,  3.51522435,  3.55999926,  3.60477417,\n",
              "         3.64954908,  3.694324  ,  3.73909891,  3.78387382,  3.82864874,\n",
              "         3.87342365,  3.91819856,  3.96297347,  4.00774839,  4.0525233 ,\n",
              "         4.09729821]),\n",
              " <BarContainer object of 200 artists>)"
            ]
          },
          "metadata": {},
          "execution_count": 40
        },
        {
          "output_type": "display_data",
          "data": {
            "text/plain": [
              "<Figure size 640x480 with 1 Axes>"
            ],
            "image/png": "[encoded data removed]"
          },
          "metadata": {}
        }
      ]
    },
    {
      "cell_type": "code",
      "source": [
        "# 2 dimensions of 3 element\n",
        "C = np.random.rand(2,3)\n",
        "print(C)"
      ],
      "metadata": {
        "colab": {
          "base_uri": "https://localhost:8080/"
        },
        "id": "0WI1R5zdi_1C",
        "outputId": "67239b28-5c43-4151-adcc-83b70a91bf96"
      },
      "execution_count": null,
      "outputs": [
        {
          "output_type": "stream",
          "name": "stdout",
          "text": [
            "[[0.23869848 0.88422247 0.46642229]\n",
            " [0.22097019 0.7255982  0.98601603]]\n"
          ]
        }
      ]
    },
    {
      "cell_type": "code",
      "source": [
        "C.ndim"
      ],
      "metadata": {
        "colab": {
          "base_uri": "https://localhost:8080/"
        },
        "id": "StWBtiNKjO82",
        "outputId": "fcec2961-0bdc-4ca1-a42c-e1b3a7acc3fb"
      },
      "execution_count": null,
      "outputs": [
        {
          "output_type": "execute_result",
          "data": {
            "text/plain": [
              "2"
            ]
          },
          "metadata": {},
          "execution_count": 42
        }
      ]
    },
    {
      "cell_type": "code",
      "source": [
        "C = np.random.rand(2,3,4,2)\n",
        "print(C)\n",
        "C.ndim"
      ],
      "metadata": {
        "colab": {
          "base_uri": "https://localhost:8080/"
        },
        "id": "2qfvdPCwja_i",
        "outputId": "58639065-705e-4b95-94bb-c9e84a06f942"
      },
      "execution_count": null,
      "outputs": [
        {
          "output_type": "stream",
          "name": "stdout",
          "text": [
            "[[[[0.97850582 0.57341441]\n",
            "   [0.6695511  0.6951332 ]\n",
            "   [0.56468788 0.70982468]\n",
            "   [0.88461351 0.12181407]]\n",
            "\n",
            "  [[0.70391217 0.00886066]\n",
            "   [0.92348782 0.92616525]\n",
            "   [0.07863284 0.23908694]\n",
            "   [0.58355541 0.62087591]]\n",
            "\n",
            "  [[0.61553593 0.46174192]\n",
            "   [0.79743597 0.02277076]\n",
            "   [0.23485279 0.18142705]\n",
            "   [0.77181462 0.90426402]]]\n",
            "\n",
            "\n",
            " [[[0.131416   0.58470738]\n",
            "   [0.47761037 0.40140369]\n",
            "   [0.48399898 0.34090425]\n",
            "   [0.491446   0.72963185]]\n",
            "\n",
            "  [[0.95833986 0.18317059]\n",
            "   [0.51742269 0.61065488]\n",
            "   [0.52500342 0.41064014]\n",
            "   [0.19147583 0.42421458]]\n",
            "\n",
            "  [[0.38828395 0.99126108]\n",
            "   [0.0934107  0.53101485]\n",
            "   [0.30189404 0.91373633]\n",
            "   [0.96364403 0.72369585]]]]\n"
          ]
        },
        {
          "output_type": "execute_result",
          "data": {
            "text/plain": [
              "4"
            ]
          },
          "metadata": {},
          "execution_count": 43
        }
      ]
    },
    {
      "cell_type": "code",
      "source": [
        "D = np.arange(100).reshape(4,25)"
      ],
      "metadata": {
        "id": "k4VnpEVGjw81"
      },
      "execution_count": null,
      "outputs": []
    },
    {
      "cell_type": "code",
      "source": [
        "D.shape"
      ],
      "metadata": {
        "colab": {
          "base_uri": "https://localhost:8080/"
        },
        "id": "jWOXJb9Sj4qR",
        "outputId": "8ae4d8e6-ff77-49f6-e89d-cdfb4393d17b"
      },
      "execution_count": null,
      "outputs": [
        {
          "output_type": "execute_result",
          "data": {
            "text/plain": [
              "(4, 25)"
            ]
          },
          "metadata": {},
          "execution_count": 45
        }
      ]
    },
    {
      "cell_type": "code",
      "source": [
        "print(D)\n",
        "D.ndim"
      ],
      "metadata": {
        "colab": {
          "base_uri": "https://localhost:8080/"
        },
        "id": "edClRViaj66Z",
        "outputId": "c82eef06-86ae-45a4-e0d7-fa27ab811a4d"
      },
      "execution_count": null,
      "outputs": [
        {
          "output_type": "stream",
          "name": "stdout",
          "text": [
            "[[ 0  1  2  3  4  5  6  7  8  9 10 11 12 13 14 15 16 17 18 19 20 21 22 23\n",
            "  24]\n",
            " [25 26 27 28 29 30 31 32 33 34 35 36 37 38 39 40 41 42 43 44 45 46 47 48\n",
            "  49]\n",
            " [50 51 52 53 54 55 56 57 58 59 60 61 62 63 64 65 66 67 68 69 70 71 72 73\n",
            "  74]\n",
            " [75 76 77 78 79 80 81 82 83 84 85 86 87 88 89 90 91 92 93 94 95 96 97 98\n",
            "  99]]\n"
          ]
        },
        {
          "output_type": "execute_result",
          "data": {
            "text/plain": [
              "2"
            ]
          },
          "metadata": {},
          "execution_count": 47
        }
      ]
    },
    {
      "cell_type": "code",
      "source": [
        "D = np.arange(100).reshape(4,5,5)\n",
        "print(D.shape)\n",
        "print(D)\n",
        "print(D.ndim)"
      ],
      "metadata": {
        "colab": {
          "base_uri": "https://localhost:8080/"
        },
        "id": "ycazLGR2kGnx",
        "outputId": "5f64f88b-4d2f-42ed-ea99-d37cd2772cfd"
      },
      "execution_count": null,
      "outputs": [
        {
          "output_type": "stream",
          "name": "stdout",
          "text": [
            "(4, 5, 5)\n",
            "[[[ 0  1  2  3  4]\n",
            "  [ 5  6  7  8  9]\n",
            "  [10 11 12 13 14]\n",
            "  [15 16 17 18 19]\n",
            "  [20 21 22 23 24]]\n",
            "\n",
            " [[25 26 27 28 29]\n",
            "  [30 31 32 33 34]\n",
            "  [35 36 37 38 39]\n",
            "  [40 41 42 43 44]\n",
            "  [45 46 47 48 49]]\n",
            "\n",
            " [[50 51 52 53 54]\n",
            "  [55 56 57 58 59]\n",
            "  [60 61 62 63 64]\n",
            "  [65 66 67 68 69]\n",
            "  [70 71 72 73 74]]\n",
            "\n",
            " [[75 76 77 78 79]\n",
            "  [80 81 82 83 84]\n",
            "  [85 86 87 88 89]\n",
            "  [90 91 92 93 94]\n",
            "  [95 96 97 98 99]]]\n",
            "3\n"
          ]
        }
      ]
    },
    {
      "cell_type": "code",
      "source": [
        "A=np.zeros(7)\n",
        "print(A)"
      ],
      "metadata": {
        "colab": {
          "base_uri": "https://localhost:8080/"
        },
        "id": "xILmRb85ln_W",
        "outputId": "02508705-dacc-40fd-b6f2-f4449a890dec"
      },
      "execution_count": null,
      "outputs": [
        {
          "output_type": "stream",
          "name": "stdout",
          "text": [
            "[0. 0. 0. 0. 0. 0. 0.]\n"
          ]
        }
      ]
    },
    {
      "cell_type": "code",
      "source": [
        "# Slicing in NUMPY\n",
        "# A[start:end:step]\n",
        "A = np.arange(100)\n",
        "print(A)"
      ],
      "metadata": {
        "colab": {
          "base_uri": "https://localhost:8080/"
        },
        "id": "o-jjAQKFkbRQ",
        "outputId": "c04252dd-0933-4d9f-8f65-418e8fc1d70c"
      },
      "execution_count": null,
      "outputs": [
        {
          "output_type": "stream",
          "name": "stdout",
          "text": [
            "[ 0  1  2  3  4  5  6  7  8  9 10 11 12 13 14 15 16 17 18 19 20 21 22 23\n",
            " 24 25 26 27 28 29 30 31 32 33 34 35 36 37 38 39 40 41 42 43 44 45 46 47\n",
            " 48 49 50 51 52 53 54 55 56 57 58 59 60 61 62 63 64 65 66 67 68 69 70 71\n",
            " 72 73 74 75 76 77 78 79 80 81 82 83 84 85 86 87 88 89 90 91 92 93 94 95\n",
            " 96 97 98 99]\n"
          ]
        }
      ]
    },
    {
      "cell_type": "code",
      "source": [
        "b=A[3:10]\n",
        "print(b)"
      ],
      "metadata": {
        "colab": {
          "base_uri": "https://localhost:8080/"
        },
        "id": "aWL1FHpZl6fg",
        "outputId": "23e6a0a3-c727-41cd-813a-35724fc572f5"
      },
      "execution_count": null,
      "outputs": [
        {
          "output_type": "stream",
          "name": "stdout",
          "text": [
            "[3 4 5 6 7 8 9]\n"
          ]
        }
      ]
    },
    {
      "cell_type": "code",
      "source": [
        "b[0] = -100\n",
        "print(b)\n",
        "print(A)"
      ],
      "metadata": {
        "colab": {
          "base_uri": "https://localhost:8080/"
        },
        "id": "-51ZtWbtmCbS",
        "outputId": "364b866a-3a1a-434e-f3ca-e4d879009973"
      },
      "execution_count": null,
      "outputs": [
        {
          "output_type": "stream",
          "name": "stdout",
          "text": [
            "[-100    4    5    6    7    8    9]\n",
            "[   0    1    2 -100    4    5    6    7    8    9   10   11   12   13\n",
            "   14   15   16   17   18   19   20   21   22   23   24   25   26   27\n",
            "   28   29   30   31   32   33   34   35   36   37   38   39   40   41\n",
            "   42   43   44   45   46   47   48   49   50   51   52   53   54   55\n",
            "   56   57   58   59   60   61   62   63   64   65   66   67   68   69\n",
            "   70   71   72   73   74   75   76   77   78   79   80   81   82   83\n",
            "   84   85   86   87   88   89   90   91   92   93   94   95   96   97\n",
            "   98   99]\n"
          ]
        }
      ]
    },
    {
      "cell_type": "code",
      "source": [
        "b=A[3:10].copy()\n",
        "b[5]=-900\n",
        "print(b)\n",
        "print(A)"
      ],
      "metadata": {
        "colab": {
          "base_uri": "https://localhost:8080/"
        },
        "id": "lghEwYDTmhIs",
        "outputId": "c68a0f98-2a50-4785-de7f-a4390556f8a8"
      },
      "execution_count": null,
      "outputs": [
        {
          "output_type": "stream",
          "name": "stdout",
          "text": [
            "[-100    4    5    6    7 -900    9]\n",
            "[   0    1    2 -100    4    5    6    7    8    9   10   11   12   13\n",
            "   14   15   16   17   18   19   20   21   22   23   24   25   26   27\n",
            "   28   29   30   31   32   33   34   35   36   37   38   39   40   41\n",
            "   42   43   44   45   46   47   48   49   50   51   52   53   54   55\n",
            "   56   57   58   59   60   61   62   63   64   65   66   67   68   69\n",
            "   70   71   72   73   74   75   76   77   78   79   80   81   82   83\n",
            "   84   85   86   87   88   89   90   91   92   93   94   95   96   97\n",
            "   98   99]\n"
          ]
        }
      ]
    },
    {
      "cell_type": "code",
      "source": [
        "A[::5]"
      ],
      "metadata": {
        "colab": {
          "base_uri": "https://localhost:8080/"
        },
        "id": "sh0uP5igm1Te",
        "outputId": "87fba256-ba77-4402-8e98-d94178339f74"
      },
      "execution_count": null,
      "outputs": [
        {
          "output_type": "execute_result",
          "data": {
            "text/plain": [
              "array([ 0,  5, 10, 15, 20, 25, 30, 35, 40, 45, 50, 55, 60, 65, 70, 75, 80,\n",
              "       85, 90, 95])"
            ]
          },
          "metadata": {},
          "execution_count": 62
        }
      ]
    },
    {
      "cell_type": "code",
      "source": [
        "A[::-5]"
      ],
      "metadata": {
        "colab": {
          "base_uri": "https://localhost:8080/"
        },
        "id": "r9jIDqq3m5Xz",
        "outputId": "36be1610-8a4c-4f3e-888f-638c665944a6"
      },
      "execution_count": null,
      "outputs": [
        {
          "output_type": "execute_result",
          "data": {
            "text/plain": [
              "array([99, 94, 89, 84, 79, 74, 69, 64, 59, 54, 49, 44, 39, 34, 29, 24, 19,\n",
              "       14,  9,  4])"
            ]
          },
          "metadata": {},
          "execution_count": 63
        }
      ]
    },
    {
      "cell_type": "code",
      "source": [
        "# Reverse an array\n",
        "A[::-1]"
      ],
      "metadata": {
        "colab": {
          "base_uri": "https://localhost:8080/"
        },
        "id": "zRbRzOm0nDiq",
        "outputId": "42fd016a-c2b0-45d4-cfd3-e42490338a79"
      },
      "execution_count": null,
      "outputs": [
        {
          "output_type": "execute_result",
          "data": {
            "text/plain": [
              "array([  99,   98,   97,   96,   95,   94,   93,   92,   91,   90,   89,\n",
              "         88,   87,   86,   85,   84,   83,   82,   81,   80,   79,   78,\n",
              "         77,   76,   75,   74,   73,   72,   71,   70,   69,   68,   67,\n",
              "         66,   65,   64,   63,   62,   61,   60,   59,   58,   57,   56,\n",
              "         55,   54,   53,   52,   51,   50,   49,   48,   47,   46,   45,\n",
              "         44,   43,   42,   41,   40,   39,   38,   37,   36,   35,   34,\n",
              "         33,   32,   31,   30,   29,   28,   27,   26,   25,   24,   23,\n",
              "         22,   21,   20,   19,   18,   17,   16,   15,   14,   13,   12,\n",
              "         11,   10,    9,    8,    7,    6,    5,    4, -100,    2,    1,\n",
              "          0])"
            ]
          },
          "metadata": {},
          "execution_count": 64
        }
      ]
    },
    {
      "cell_type": "code",
      "source": [
        "# To find index of element\n",
        "idx = np.argwhere(A==-100)[0][0]\n",
        "print(idx)"
      ],
      "metadata": {
        "colab": {
          "base_uri": "https://localhost:8080/"
        },
        "id": "f61G-asNnJR0",
        "outputId": "48569633-cecc-4497-9c1f-9c56002fcd0d"
      },
      "execution_count": null,
      "outputs": [
        {
          "output_type": "stream",
          "name": "stdout",
          "text": [
            "3\n"
          ]
        }
      ]
    },
    {
      "cell_type": "code",
      "source": [
        "A = np.round(10*np.random.rand(5,4))\n",
        "print(A)"
      ],
      "metadata": {
        "colab": {
          "base_uri": "https://localhost:8080/"
        },
        "id": "j4_ONgMyojXR",
        "outputId": "bcb48729-3724-4183-d64b-45394be793c5"
      },
      "execution_count": null,
      "outputs": [
        {
          "output_type": "stream",
          "name": "stdout",
          "text": [
            "[[9. 6. 7. 3.]\n",
            " [3. 5. 1. 8.]\n",
            " [7. 2. 7. 6.]\n",
            " [4. 9. 3. 2.]\n",
            " [3. 5. 7. 5.]]\n"
          ]
        }
      ]
    },
    {
      "cell_type": "code",
      "source": [
        "A[1,3]"
      ],
      "metadata": {
        "colab": {
          "base_uri": "https://localhost:8080/"
        },
        "id": "cZPyTfGFpHdw",
        "outputId": "78eef033-0ab6-4f4f-d6fc-9b0e4865bfb8"
      },
      "execution_count": null,
      "outputs": [
        {
          "output_type": "execute_result",
          "data": {
            "text/plain": [
              "8.0"
            ]
          },
          "metadata": {},
          "execution_count": 68
        }
      ]
    },
    {
      "cell_type": "code",
      "source": [
        "A[1]"
      ],
      "metadata": {
        "colab": {
          "base_uri": "https://localhost:8080/"
        },
        "id": "14UXHkxspQBf",
        "outputId": "eef5bc7e-0070-4849-b9e7-8ffee8b7a380"
      },
      "execution_count": null,
      "outputs": [
        {
          "output_type": "execute_result",
          "data": {
            "text/plain": [
              "array([3., 5., 1., 8.])"
            ]
          },
          "metadata": {},
          "execution_count": 69
        }
      ]
    },
    {
      "cell_type": "code",
      "source": [
        "A[1,:]"
      ],
      "metadata": {
        "colab": {
          "base_uri": "https://localhost:8080/"
        },
        "id": "ZFy1_9kGpUpl",
        "outputId": "d6510e45-b7da-4bbf-80df-c9bf71402e4d"
      },
      "execution_count": null,
      "outputs": [
        {
          "output_type": "execute_result",
          "data": {
            "text/plain": [
              "array([3., 5., 1., 8.])"
            ]
          },
          "metadata": {},
          "execution_count": 70
        }
      ]
    },
    {
      "cell_type": "code",
      "source": [
        "A[:,1]"
      ],
      "metadata": {
        "colab": {
          "base_uri": "https://localhost:8080/"
        },
        "id": "mLB9ILTgpY69",
        "outputId": "c24864ff-ff3c-4be2-dc12-d555085dc296"
      },
      "execution_count": null,
      "outputs": [
        {
          "output_type": "execute_result",
          "data": {
            "text/plain": [
              "array([6., 5., 2., 9., 5.])"
            ]
          },
          "metadata": {},
          "execution_count": 71
        }
      ]
    },
    {
      "cell_type": "code",
      "source": [
        "A[1:3,2:4]"
      ],
      "metadata": {
        "colab": {
          "base_uri": "https://localhost:8080/"
        },
        "id": "9-8hxltxpdif",
        "outputId": "fcca1708-1456-412a-b742-aa544924e401"
      },
      "execution_count": null,
      "outputs": [
        {
          "output_type": "execute_result",
          "data": {
            "text/plain": [
              "array([[1., 8.],\n",
              "       [7., 6.]])"
            ]
          },
          "metadata": {},
          "execution_count": 72
        }
      ]
    },
    {
      "cell_type": "code",
      "source": [
        "print(A)\n",
        "print(A.transpose())"
      ],
      "metadata": {
        "colab": {
          "base_uri": "https://localhost:8080/"
        },
        "id": "UnlFTr12pxf4",
        "outputId": "1c5ff10d-1817-4da1-a4d0-8131f8254feb"
      },
      "execution_count": null,
      "outputs": [
        {
          "output_type": "stream",
          "name": "stdout",
          "text": [
            "[[9. 6. 7. 3.]\n",
            " [3. 5. 1. 8.]\n",
            " [7. 2. 7. 6.]\n",
            " [4. 9. 3. 2.]\n",
            " [3. 5. 7. 5.]]\n",
            "[[9. 3. 7. 4. 3.]\n",
            " [6. 5. 2. 9. 5.]\n",
            " [7. 1. 7. 3. 7.]\n",
            " [3. 8. 6. 2. 5.]]\n"
          ]
        }
      ]
    },
    {
      "cell_type": "code",
      "source": [
        "import numpy.linalg as la"
      ],
      "metadata": {
        "id": "2WmAON_aqDFe"
      },
      "execution_count": 84,
      "outputs": []
    },
    {
      "cell_type": "code",
      "source": [
        "A=np.round(np.random.rand(3,3)*10)\n",
        "B=la.inv(A)\n",
        "print(A)\n",
        "print(B)\n",
        "print(A*B)"
      ],
      "metadata": {
        "colab": {
          "base_uri": "https://localhost:8080/"
        },
        "id": "kRxUwxpaqH16",
        "outputId": "adf272bd-dc97-4974-f0b4-e6842ae53afc"
      },
      "execution_count": null,
      "outputs": [
        {
          "output_type": "stream",
          "name": "stdout",
          "text": [
            "[[ 7.  0.  3.]\n",
            " [ 1. 10. 10.]\n",
            " [ 8.  1.  3.]]\n",
            "[[-0.20618557 -0.03092784  0.30927835]\n",
            " [-0.79381443  0.03092784  0.69072165]\n",
            " [ 0.81443299  0.07216495 -0.72164948]]\n",
            "[[-1.44329897 -0.          0.92783505]\n",
            " [-0.79381443  0.30927835  6.90721649]\n",
            " [ 6.51546392  0.07216495 -2.16494845]]\n"
          ]
        }
      ]
    },
    {
      "cell_type": "code",
      "source": [
        "A.sort(axis=1)\n",
        "print(A)"
      ],
      "metadata": {
        "colab": {
          "base_uri": "https://localhost:8080/"
        },
        "id": "ZMy-SPsfqv7T",
        "outputId": "f9c41b27-1f21-4304-ad4b-f6976d86159f"
      },
      "execution_count": null,
      "outputs": [
        {
          "output_type": "stream",
          "name": "stdout",
          "text": [
            "[[ 0.  1.  3.]\n",
            " [ 1.  3.  7.]\n",
            " [ 8. 10. 10.]]\n"
          ]
        }
      ]
    },
    {
      "cell_type": "code",
      "source": [
        "# More indexing\n",
        "# A[[index_array]]\n",
        "\n",
        "A = np.arange(100)\n",
        "print(A)"
      ],
      "metadata": {
        "id": "lgr2OyCurJs_",
        "colab": {
          "base_uri": "https://localhost:8080/"
        },
        "outputId": "5a5dc711-fee8-4623-eb65-4f731e0570be"
      },
      "execution_count": 88,
      "outputs": [
        {
          "output_type": "stream",
          "name": "stdout",
          "text": [
            "[ 0  1  2  3  4  5  6  7  8  9 10 11 12 13 14 15 16 17 18 19 20 21 22 23\n",
            " 24 25 26 27 28 29 30 31 32 33 34 35 36 37 38 39 40 41 42 43 44 45 46 47\n",
            " 48 49 50 51 52 53 54 55 56 57 58 59 60 61 62 63 64 65 66 67 68 69 70 71\n",
            " 72 73 74 75 76 77 78 79 80 81 82 83 84 85 86 87 88 89 90 91 92 93 94 95\n",
            " 96 97 98 99]\n"
          ]
        }
      ]
    },
    {
      "cell_type": "code",
      "source": [
        "B = A[[3,5,6]]"
      ],
      "metadata": {
        "id": "44Zk5f-62eDg"
      },
      "execution_count": 89,
      "outputs": []
    },
    {
      "cell_type": "code",
      "source": [
        "print(B)"
      ],
      "metadata": {
        "colab": {
          "base_uri": "https://localhost:8080/"
        },
        "id": "HQKfbd322mpd",
        "outputId": "2ee0377b-e27e-4f68-be10-35b2635edfbe"
      },
      "execution_count": 90,
      "outputs": [
        {
          "output_type": "stream",
          "name": "stdout",
          "text": [
            "[3 5 6]\n"
          ]
        }
      ]
    },
    {
      "cell_type": "code",
      "source": [
        "B[0]=-4\n",
        "print(B)\n",
        "print(A)"
      ],
      "metadata": {
        "colab": {
          "base_uri": "https://localhost:8080/"
        },
        "id": "4uI0HBvs2sSI",
        "outputId": "4dfc727b-5294-4c7c-9591-66e86d9d8c9b"
      },
      "execution_count": 91,
      "outputs": [
        {
          "output_type": "stream",
          "name": "stdout",
          "text": [
            "[-4  5  6]\n",
            "[ 0  1  2  3  4  5  6  7  8  9 10 11 12 13 14 15 16 17 18 19 20 21 22 23\n",
            " 24 25 26 27 28 29 30 31 32 33 34 35 36 37 38 39 40 41 42 43 44 45 46 47\n",
            " 48 49 50 51 52 53 54 55 56 57 58 59 60 61 62 63 64 65 66 67 68 69 70 71\n",
            " 72 73 74 75 76 77 78 79 80 81 82 83 84 85 86 87 88 89 90 91 92 93 94 95\n",
            " 96 97 98 99]\n"
          ]
        }
      ]
    },
    {
      "cell_type": "code",
      "source": [
        "B = A[A<40]\n",
        "print(B)"
      ],
      "metadata": {
        "colab": {
          "base_uri": "https://localhost:8080/"
        },
        "id": "VxnABPcv3D6F",
        "outputId": "c9073f3e-420c-463a-b7ae-93cefc3438a2"
      },
      "execution_count": 92,
      "outputs": [
        {
          "output_type": "stream",
          "name": "stdout",
          "text": [
            "[ 0  1  2  3  4  5  6  7  8  9 10 11 12 13 14 15 16 17 18 19 20 21 22 23\n",
            " 24 25 26 27 28 29 30 31 32 33 34 35 36 37 38 39]\n"
          ]
        }
      ]
    },
    {
      "cell_type": "code",
      "source": [
        "# Difference between & and and\n",
        "# & is used for array\n",
        "# and for objects\n",
        "# Similar for | and or and ! and ~\n",
        "B = A[(A<40) & (A>20)]\n",
        "print(B)"
      ],
      "metadata": {
        "colab": {
          "base_uri": "https://localhost:8080/"
        },
        "id": "ScCEu4Nz3JtC",
        "outputId": "7dfeca35-ba4a-4b32-cc29-f1a748bc0164"
      },
      "execution_count": 94,
      "outputs": [
        {
          "output_type": "stream",
          "name": "stdout",
          "text": [
            "[21 22 23 24 25 26 27 28 29 30 31 32 33 34 35 36 37 38 39]\n"
          ]
        }
      ]
    },
    {
      "cell_type": "code",
      "source": [
        "# Broadcasting in NUMPY\n",
        "# A = A+5\n",
        "B = A+100\n",
        "print(B)"
      ],
      "metadata": {
        "colab": {
          "base_uri": "https://localhost:8080/"
        },
        "id": "mH0635n23b3F",
        "outputId": "5674f135-9b7b-463a-c719-8595116b3581"
      },
      "execution_count": 95,
      "outputs": [
        {
          "output_type": "stream",
          "name": "stdout",
          "text": [
            "[100 101 102 103 104 105 106 107 108 109 110 111 112 113 114 115 116 117\n",
            " 118 119 120 121 122 123 124 125 126 127 128 129 130 131 132 133 134 135\n",
            " 136 137 138 139 140 141 142 143 144 145 146 147 148 149 150 151 152 153\n",
            " 154 155 156 157 158 159 160 161 162 163 164 165 166 167 168 169 170 171\n",
            " 172 173 174 175 176 177 178 179 180 181 182 183 184 185 186 187 188 189\n",
            " 190 191 192 193 194 195 196 197 198 199]\n"
          ]
        }
      ]
    },
    {
      "cell_type": "code",
      "source": [
        "# hstack, vstack, sort\n",
        "A = np.round(np.random.rand(2,3)*10)\n",
        "print(A)"
      ],
      "metadata": {
        "colab": {
          "base_uri": "https://localhost:8080/"
        },
        "id": "-J5IooB54woW",
        "outputId": "e50fa154-f777-48ea-cd60-7fe09c1440ad"
      },
      "execution_count": 96,
      "outputs": [
        {
          "output_type": "stream",
          "name": "stdout",
          "text": [
            "[[ 1. 10.  4.]\n",
            " [ 8.  1.  9.]]\n"
          ]
        }
      ]
    },
    {
      "cell_type": "code",
      "source": [
        "A+3"
      ],
      "metadata": {
        "colab": {
          "base_uri": "https://localhost:8080/"
        },
        "id": "x8w1ktxf5Jjk",
        "outputId": "d2d52a96-1510-4888-9e54-aa307ccde7d8"
      },
      "execution_count": 97,
      "outputs": [
        {
          "output_type": "execute_result",
          "data": {
            "text/plain": [
              "array([[ 4., 13.,  7.],\n",
              "       [11.,  4., 12.]])"
            ]
          },
          "metadata": {},
          "execution_count": 97
        }
      ]
    },
    {
      "cell_type": "code",
      "source": [
        "A+(np.arange(2).reshape(2,1))"
      ],
      "metadata": {
        "colab": {
          "base_uri": "https://localhost:8080/"
        },
        "id": "CP597vLw5NRi",
        "outputId": "ebba2ec3-4ecd-456f-d1d8-dae1a441ec6e"
      },
      "execution_count": 98,
      "outputs": [
        {
          "output_type": "execute_result",
          "data": {
            "text/plain": [
              "array([[ 1., 10.,  4.],\n",
              "       [ 9.,  2., 10.]])"
            ]
          },
          "metadata": {},
          "execution_count": 98
        }
      ]
    },
    {
      "cell_type": "code",
      "source": [
        "B = np.round(np.random.rand(2,2)*10)\n",
        "print(B)"
      ],
      "metadata": {
        "colab": {
          "base_uri": "https://localhost:8080/"
        },
        "id": "0_nVJW9S5ju0",
        "outputId": "977c931f-6a87-45de-b954-46930c82a54c"
      },
      "execution_count": 99,
      "outputs": [
        {
          "output_type": "stream",
          "name": "stdout",
          "text": [
            "[[ 1. 10.]\n",
            " [ 5.  6.]]\n"
          ]
        }
      ]
    },
    {
      "cell_type": "code",
      "source": [
        "C = np.hstack((A,B))\n",
        "print(C)"
      ],
      "metadata": {
        "colab": {
          "base_uri": "https://localhost:8080/"
        },
        "id": "Lx56fzqw5sT8",
        "outputId": "fa5dd947-2e56-4a81-8f4e-41efc4886113"
      },
      "execution_count": 101,
      "outputs": [
        {
          "output_type": "stream",
          "name": "stdout",
          "text": [
            "[[ 1. 10.  4.  1. 10.]\n",
            " [ 8.  1.  9.  5.  6.]]\n"
          ]
        }
      ]
    },
    {
      "cell_type": "code",
      "source": [
        "B = np.round(np.random.rand(2,3)*10)\n",
        "print(B)\n",
        "C = np.vstack((A,B))\n",
        "print(C)"
      ],
      "metadata": {
        "colab": {
          "base_uri": "https://localhost:8080/"
        },
        "id": "zJr_tD4-55Zp",
        "outputId": "d7e7d2ab-df12-4cd5-baef-303c3dcfd8a5"
      },
      "execution_count": 105,
      "outputs": [
        {
          "output_type": "stream",
          "name": "stdout",
          "text": [
            "[[ 2.  2.  6.]\n",
            " [10. 10.  9.]]\n",
            "[[ 1. 10.  4.]\n",
            " [ 8.  1.  9.]\n",
            " [ 2.  2.  6.]\n",
            " [10. 10.  9.]]\n"
          ]
        }
      ]
    },
    {
      "cell_type": "code",
      "source": [
        "A = np.random.permutation(np.arange(10))"
      ],
      "metadata": {
        "id": "Rq8kc8jQ6oNv"
      },
      "execution_count": 106,
      "outputs": []
    },
    {
      "cell_type": "code",
      "source": [
        "print(A)"
      ],
      "metadata": {
        "colab": {
          "base_uri": "https://localhost:8080/"
        },
        "id": "REBAIXSF6vuL",
        "outputId": "566b3065-6cb4-472e-acf0-cd30ce2b294c"
      },
      "execution_count": 107,
      "outputs": [
        {
          "output_type": "stream",
          "name": "stdout",
          "text": [
            "[1 7 3 8 0 9 5 6 4 2]\n"
          ]
        }
      ]
    },
    {
      "cell_type": "code",
      "source": [
        "A.sort()\n",
        "print(A)"
      ],
      "metadata": {
        "colab": {
          "base_uri": "https://localhost:8080/"
        },
        "id": "1Ty0GXYj6xmS",
        "outputId": "c58557c7-5f65-449c-8cfa-4ad3485ca238"
      },
      "execution_count": 108,
      "outputs": [
        {
          "output_type": "stream",
          "name": "stdout",
          "text": [
            "[0 1 2 3 4 5 6 7 8 9]\n"
          ]
        }
      ]
    },
    {
      "cell_type": "code",
      "source": [
        "# Also use\n",
        "np.sort(A)"
      ],
      "metadata": {
        "colab": {
          "base_uri": "https://localhost:8080/"
        },
        "id": "Yb6pXRN-64Xy",
        "outputId": "d0769544-e442-4bcf-e4a9-b927f4fafafd"
      },
      "execution_count": 109,
      "outputs": [
        {
          "output_type": "execute_result",
          "data": {
            "text/plain": [
              "array([0, 1, 2, 3, 4, 5, 6, 7, 8, 9])"
            ]
          },
          "metadata": {},
          "execution_count": 109
        }
      ]
    },
    {
      "cell_type": "code",
      "source": [
        "# For decesding\n",
        "A.sort()\n",
        "B=A[::-1]\n",
        "print(B)"
      ],
      "metadata": {
        "colab": {
          "base_uri": "https://localhost:8080/"
        },
        "id": "2Vd4KQTm68ry",
        "outputId": "21bb4d5b-ea6b-4fbe-a9f1-e0cfed63d34b"
      },
      "execution_count": 111,
      "outputs": [
        {
          "output_type": "stream",
          "name": "stdout",
          "text": [
            "[9 8 7 6 5 4 3 2 1 0]\n"
          ]
        }
      ]
    },
    {
      "cell_type": "code",
      "source": [
        "A = np.array([\"abc\",\"howare you\",\"u76ged\",'partha','123'])\n",
        "A.sort()\n",
        "print(A)"
      ],
      "metadata": {
        "colab": {
          "base_uri": "https://localhost:8080/"
        },
        "id": "wdzdxbRD7K7Y",
        "outputId": "672c8883-40ca-4172-d3c5-96050a70c6d4"
      },
      "execution_count": 113,
      "outputs": [
        {
          "output_type": "stream",
          "name": "stdout",
          "text": [
            "['123' 'abc' 'howare you' 'partha' 'u76ged']\n"
          ]
        }
      ]
    },
    {
      "cell_type": "code",
      "source": [
        "# Check speed of ordinary function and numpy universal function\n",
        "B = np.random.rand(1000000)\n",
        "%timeit sum(B)\n",
        "%timeit np.sum(B) # B.sum()\n",
        "\n",
        "def mySum(G):\n",
        "  s=0;\n",
        "  for x in G:\n",
        "    s+=x\n",
        "  return s\n",
        "\n",
        "%timeit mySum(B)"
      ],
      "metadata": {
        "colab": {
          "base_uri": "https://localhost:8080/"
        },
        "id": "nqeBXecE7frF",
        "outputId": "e46a5290-2896-4b19-d265-4dc9f337270c"
      },
      "execution_count": 115,
      "outputs": [
        {
          "output_type": "stream",
          "name": "stdout",
          "text": [
            "The slowest run took 4.76 times longer than the fastest. This could mean that an intermediate result is being cached.\n",
            "282 ms ± 144 ms per loop (mean ± std. dev. of 7 runs, 1 loop each)\n",
            "578 µs ± 142 µs per loop (mean ± std. dev. of 7 runs, 1000 loops each)\n",
            "136 ms ± 36.9 ms per loop (mean ± std. dev. of 7 runs, 10 loops each)\n"
          ]
        }
      ]
    }
  ]
}